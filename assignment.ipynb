{
 "cells": [
  {
   "cell_type": "markdown",
   "id": "a75942d4",
   "metadata": {},
   "source": [
    "Q1. Create one variable containing following type of data:\n",
    "\n",
    "(i)\t    string\n",
    "\n",
    "(ii)\tlist\n",
    "\n",
    "(iii)\tfloat\n",
    "\n",
    "(iv)\ttuple"
   ]
  },
  {
   "cell_type": "markdown",
   "id": "e6824f06",
   "metadata": {},
   "source": [
    "#### (i)string variable"
   ]
  },
  {
   "cell_type": "code",
   "execution_count": 1,
   "id": "481892c9",
   "metadata": {},
   "outputs": [
    {
     "data": {
      "text/plain": [
       "str"
      ]
     },
     "execution_count": 1,
     "metadata": {},
     "output_type": "execute_result"
    }
   ],
   "source": [
    "s=\"tejaswini\"\n",
    "type(s)"
   ]
  },
  {
   "cell_type": "markdown",
   "id": "3c5c32ee",
   "metadata": {},
   "source": [
    "#### (iii)list variable"
   ]
  },
  {
   "cell_type": "code",
   "execution_count": 2,
   "id": "a1188026",
   "metadata": {},
   "outputs": [
    {
     "data": {
      "text/plain": [
       "list"
      ]
     },
     "execution_count": 2,
     "metadata": {},
     "output_type": "execute_result"
    }
   ],
   "source": [
    "l=[1,2,4,6,7]\n",
    "type(l)"
   ]
  },
  {
   "cell_type": "markdown",
   "id": "1372a9b6",
   "metadata": {},
   "source": [
    "#### (iii)float variable"
   ]
  },
  {
   "cell_type": "code",
   "execution_count": 3,
   "id": "555725a0",
   "metadata": {},
   "outputs": [
    {
     "data": {
      "text/plain": [
       "float"
      ]
     },
     "execution_count": 3,
     "metadata": {},
     "output_type": "execute_result"
    }
   ],
   "source": [
    "f=13.45\n",
    "type(f)"
   ]
  },
  {
   "cell_type": "markdown",
   "id": "e7cafebc",
   "metadata": {},
   "source": [
    "#### (iv)tuple variable"
   ]
  },
  {
   "cell_type": "code",
   "execution_count": 4,
   "id": "eade0522",
   "metadata": {},
   "outputs": [
    {
     "data": {
      "text/plain": [
       "tuple"
      ]
     },
     "execution_count": 4,
     "metadata": {},
     "output_type": "execute_result"
    }
   ],
   "source": [
    "t=(1,45,6,78,8)\n",
    "type(t)"
   ]
  },
  {
   "cell_type": "markdown",
   "id": "d841aa18",
   "metadata": {},
   "source": [
    "Q2. Given are some following variables containing data:\n",
    "\n",
    "(i)\tvar1 = ‘ ‘\n",
    "\n",
    "(ii)\tvar2 = ‘[ DS , ML , Python]’\n",
    "\n",
    "(iii)\tvar3 = [ ‘DS’ , ’ML’ , ‘Python’ ]\n",
    "\n",
    "(iv)\tvar4 = 1\n",
    "\n",
    "What will be the data type of the above given variable"
   ]
  },
  {
   "cell_type": "markdown",
   "id": "96b4f6e9",
   "metadata": {},
   "source": [
    "#### (i)var1=' ' :It is of string data type."
   ]
  },
  {
   "cell_type": "code",
   "execution_count": 5,
   "id": "adb3e7e1",
   "metadata": {},
   "outputs": [
    {
     "data": {
      "text/plain": [
       "str"
      ]
     },
     "execution_count": 5,
     "metadata": {},
     "output_type": "execute_result"
    }
   ],
   "source": [
    "var1=' '\n",
    "type(var1)"
   ]
  },
  {
   "cell_type": "markdown",
   "id": "db935df7",
   "metadata": {},
   "source": [
    "#### (ii)var2='[DS,ML,Python]'  : string data type which again consist of list of strings in it."
   ]
  },
  {
   "cell_type": "code",
   "execution_count": 6,
   "id": "1376d390",
   "metadata": {},
   "outputs": [
    {
     "data": {
      "text/plain": [
       "str"
      ]
     },
     "execution_count": 6,
     "metadata": {},
     "output_type": "execute_result"
    }
   ],
   "source": [
    "var2='[DS,ML,Python]'\n",
    "type(var2)"
   ]
  },
  {
   "cell_type": "markdown",
   "id": "fd18cabb",
   "metadata": {},
   "source": [
    "#### (iii)var3 = [ ‘DS’ , ’ML’ , ‘Python’ ] :  list data type\n"
   ]
  },
  {
   "cell_type": "code",
   "execution_count": 7,
   "id": "ccdeb589",
   "metadata": {},
   "outputs": [
    {
     "data": {
      "text/plain": [
       "list"
      ]
     },
     "execution_count": 7,
     "metadata": {},
     "output_type": "execute_result"
    }
   ],
   "source": [
    "var3=['DS','ML','Python']\n",
    "type(var3)"
   ]
  },
  {
   "cell_type": "markdown",
   "id": "4e73c6b7",
   "metadata": {},
   "source": [
    "#### (iv)var4 = 1 : integer data type."
   ]
  },
  {
   "cell_type": "code",
   "execution_count": 8,
   "id": "35394559",
   "metadata": {},
   "outputs": [
    {
     "data": {
      "text/plain": [
       "int"
      ]
     },
     "execution_count": 8,
     "metadata": {},
     "output_type": "execute_result"
    }
   ],
   "source": [
    "var4=1\n",
    "type(var4)"
   ]
  },
  {
   "cell_type": "markdown",
   "id": "83218d73",
   "metadata": {},
   "source": [
    "Q3. Explain the use of the following operators using an example:\n",
    "\n",
    "(i)\t/\n",
    "\n",
    "(ii)\t% \n",
    "\n",
    "(iii)\t//\n",
    "\n",
    "(iv)\t**"
   ]
  },
  {
   "cell_type": "markdown",
   "id": "6e63c93b",
   "metadata": {},
   "source": [
    "#### (i) /  :  / is the division operator which is used to divide the number and gives exact result. i.e, float.\n",
    "####            For example : 10 is divided by 2 we get 5.0."
   ]
  },
  {
   "cell_type": "markdown",
   "id": "bbad62f8",
   "metadata": {},
   "source": [
    "#### (ii)% : % operator is the modulo division which gives the remainder as result when one number is divided by the other number.\n",
    "####            For example : 10 is divided by 3 we get 1 as output because it is the remainder."
   ]
  },
  {
   "cell_type": "markdown",
   "id": "e5ac6df3",
   "metadata": {},
   "source": [
    "#### (iii)// : // operator is the floor division which gives the result as the round down value of the quotient\n",
    "####                                                                     (or)\n",
    "####           it gives only exact integer part of quotient as result.\n",
    "####           For example : if 10 is divided by 3 we get 3 as result."
   ]
  },
  {
   "cell_type": "markdown",
   "id": "61de74f1",
   "metadata": {},
   "source": [
    "#### (iv)** : it is the exponential operator which gives the power values.\n",
    "####      for example : 10**2 gives output as 100."
   ]
  },
  {
   "cell_type": "markdown",
   "id": "65ee3d10",
   "metadata": {},
   "source": [
    "#### EXAMPLE"
   ]
  },
  {
   "cell_type": "code",
   "execution_count": 9,
   "id": "f50bdeab",
   "metadata": {},
   "outputs": [
    {
     "name": "stdout",
     "output_type": "stream",
     "text": [
      "5.0\n",
      "1\n",
      "3\n",
      "100\n"
     ]
    }
   ],
   "source": [
    "a=10\n",
    "b=2\n",
    "c=3\n",
    "print(a/b)\n",
    "print(a%c)\n",
    "print(a//c)\n",
    "print(a**b)"
   ]
  },
  {
   "cell_type": "markdown",
   "id": "2dc926c0",
   "metadata": {},
   "source": [
    "Q4. Create a list of length 10 of your choice containing multiple types of data. Using for loop print the \n",
    "element and its data type."
   ]
  },
  {
   "cell_type": "code",
   "execution_count": 10,
   "id": "fcee998e",
   "metadata": {},
   "outputs": [
    {
     "name": "stdout",
     "output_type": "stream",
     "text": [
      "2 <class 'int'>\n",
      "teja <class 'str'>\n",
      "2.34 <class 'float'>\n",
      "[1, 2, 3] <class 'list'>\n",
      "{3, 4, 5} <class 'set'>\n",
      "{1: 'one', 2: 'two'} <class 'dict'>\n",
      "(2+3j) <class 'complex'>\n",
      "  <class 'str'>\n",
      "(3, 4, 5) <class 'tuple'>\n",
      "True <class 'bool'>\n"
     ]
    }
   ],
   "source": [
    "l=[2,'teja',2.34,[1,2,3],{3,4,5},{1:'one',2:'two'},2+3j,' ',(3,4,5),True]\n",
    "print(l[0],type(l[0]))\n",
    "print(l[1],type(l[1]))\n",
    "print(l[2],type(l[2]))\n",
    "print(l[3],type(l[3]))\n",
    "print(l[4],type(l[4]))\n",
    "print(l[5],type(l[5]))\n",
    "print(l[6],type(l[6]))\n",
    "print(l[7],type(l[7]))\n",
    "print(l[8],type(l[8]))\n",
    "print(l[9],type(l[9]))\n"
   ]
  },
  {
   "cell_type": "markdown",
   "id": "a760b811",
   "metadata": {},
   "source": [
    "Q5. Using a while loop, verify if the number A is purely divisible by number B and if so then how many \n",
    "times it can be divisible"
   ]
  },
  {
   "cell_type": "code",
   "execution_count": 14,
   "id": "f78ae713",
   "metadata": {},
   "outputs": [
    {
     "name": "stdout",
     "output_type": "stream",
     "text": [
      "A is purely divisible by B, and it can be divided 2 times.\n"
     ]
    }
   ],
   "source": [
    "A = 100\n",
    "B = 5 \n",
    "count = 0 \n",
    "while A % B == 0: \n",
    "      A = A / B \n",
    "      count += 1 \n",
    "if count > 0: \n",
    "      print(\"A is purely divisible by B, and it can be divided\", count, \"times.\") \n",
    "else: \n",
    "      print(\"A is not purely divisible by B.\")"
   ]
  },
  {
   "cell_type": "markdown",
   "id": "d5309e46",
   "metadata": {},
   "source": [
    "Q6. Create a list containing 25 int type data. Using for loop and if-else condition print if the element is \n",
    "divisible by 3 or not\n"
   ]
  },
  {
   "cell_type": "code",
   "execution_count": 12,
   "id": "370c4a8f",
   "metadata": {},
   "outputs": [
    {
     "name": "stdout",
     "output_type": "stream",
     "text": [
      "3 is divisible by 3\n",
      "4 is not divisible by 3\n",
      "5 is not divisible by 3\n",
      "6 is divisible by 3\n",
      "7 is not divisible by 3\n",
      "8 is not divisible by 3\n",
      "9 is divisible by 3\n",
      "0 is divisible by 3\n",
      "2 is not divisible by 3\n",
      "3 is divisible by 3\n",
      "23 is not divisible by 3\n",
      "34 is not divisible by 3\n",
      "12 is divisible by 3\n",
      "13 is not divisible by 3\n",
      "1 is not divisible by 3\n",
      "2 is not divisible by 3\n",
      "3 is divisible by 3\n",
      "4 is not divisible by 3\n",
      "56 is not divisible by 3\n",
      "67 is not divisible by 3\n",
      "89 is not divisible by 3\n",
      "90 is divisible by 3\n",
      "23 is not divisible by 3\n",
      "24 is divisible by 3\n",
      "25 is not divisible by 3\n"
     ]
    }
   ],
   "source": [
    "lis=[3,4,5,6,7,8,9,0,2,3,23,34,12,13,1,2,3,4,56,67,89,90,23,24,25]\n",
    "for num in lis:\n",
    "    if num%3==0:\n",
    "       print(f\"{num} is divisible by 3\")\n",
    "    else:\n",
    "       print(f\"{num} is not divisible by 3\")\n",
    "    \n",
    "    "
   ]
  },
  {
   "cell_type": "markdown",
   "id": "57f4500d",
   "metadata": {},
   "source": [
    "Q7. What do you understand about mutable and immutable data types? Give examples for both showing \n",
    "this property"
   ]
  },
  {
   "cell_type": "markdown",
   "id": "f4f4a8be",
   "metadata": {},
   "source": [
    "#### MUTABLE : the values which can be changeable after assining are known as mutable data types.\n",
    "####          example : list,set,dictionary,etc.\n",
    "#### IMMUTABLE : the values which cannot be changeable after assigning to a variable are known as immutable data types\n",
    "#### example:tuple,strings,etc."
   ]
  },
  {
   "cell_type": "markdown",
   "id": "a7d36225",
   "metadata": {},
   "source": [
    "#### MUTABLE EXAMPLES"
   ]
  },
  {
   "cell_type": "code",
   "execution_count": 16,
   "id": "55c73203",
   "metadata": {},
   "outputs": [
    {
     "name": "stdout",
     "output_type": "stream",
     "text": [
      "[5, 2, 3, 4]\n"
     ]
    }
   ],
   "source": [
    "l=[1,2,3,4]\n",
    "l[0]=5\n",
    "print(l)"
   ]
  },
  {
   "cell_type": "code",
   "execution_count": 14,
   "id": "25c70bb8",
   "metadata": {},
   "outputs": [
    {
     "name": "stdout",
     "output_type": "stream",
     "text": [
      "[5, 2, 3, 4, 6]\n"
     ]
    }
   ],
   "source": [
    "l.append(6)\n",
    "print(l)"
   ]
  },
  {
   "cell_type": "code",
   "execution_count": 15,
   "id": "9d2dd7b1",
   "metadata": {},
   "outputs": [
    {
     "name": "stdout",
     "output_type": "stream",
     "text": [
      "{2, 3, 4, 5, 6}\n"
     ]
    }
   ],
   "source": [
    "s={2,3,4,5}\n",
    "s.add(6)\n",
    "print(s)"
   ]
  },
  {
   "cell_type": "markdown",
   "id": "eab4ab92",
   "metadata": {},
   "source": [
    "#### IMMUTABLE EXAMPLES\n",
    "#### s=\"teja\"\n",
    "#### s[2]=\"r\"\n",
    "#### print(s)\n",
    "#### Type error: 'str' object does not support item assignment"
   ]
  },
  {
   "cell_type": "code",
   "execution_count": null,
   "id": "12084d23",
   "metadata": {},
   "outputs": [],
   "source": []
  }
 ],
 "metadata": {
  "kernelspec": {
   "display_name": "Python 3 (ipykernel)",
   "language": "python",
   "name": "python3"
  },
  "language_info": {
   "codemirror_mode": {
    "name": "ipython",
    "version": 3
   },
   "file_extension": ".py",
   "mimetype": "text/x-python",
   "name": "python",
   "nbconvert_exporter": "python",
   "pygments_lexer": "ipython3",
   "version": "3.11.2"
  }
 },
 "nbformat": 4,
 "nbformat_minor": 5
}
